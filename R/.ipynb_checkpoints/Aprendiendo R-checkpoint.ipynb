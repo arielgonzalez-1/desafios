{
 "cells": [
  {
   "cell_type": "markdown",
   "id": "311375b8-cd8e-4aaf-8de2-9a16c277a53e",
   "metadata": {
    "tags": []
   },
   "source": [
    "# Comentarios"
   ]
  },
  {
   "cell_type": "code",
   "execution_count": 1,
   "id": "492d4ce8-231e-4649-88d8-1256e4242f11",
   "metadata": {},
   "outputs": [],
   "source": [
    "# Esto es un comentario"
   ]
  },
  {
   "cell_type": "markdown",
   "id": "1f9a1706-f696-4a51-a76d-3716a93ac2b1",
   "metadata": {
    "tags": []
   },
   "source": [
    "# Asignacion de variables"
   ]
  },
  {
   "cell_type": "markdown",
   "id": "109e059a-d70e-4520-99ec-d9fcca10f607",
   "metadata": {},
   "source": [
    "Una forma:\n"
   ]
  },
  {
   "cell_type": "code",
   "execution_count": 2,
   "id": "2618c0c8-243c-44f9-bc9a-ff63c81618f0",
   "metadata": {},
   "outputs": [],
   "source": [
    "x = 3"
   ]
  },
  {
   "cell_type": "markdown",
   "id": "f1678147-3a4c-416f-8948-960b212a2712",
   "metadata": {},
   "source": [
    "La más usada:"
   ]
  },
  {
   "cell_type": "code",
   "execution_count": 3,
   "id": "06a477c8-46be-44d5-b221-17005fb40f5e",
   "metadata": {},
   "outputs": [],
   "source": [
    "x <- 3"
   ]
  },
  {
   "cell_type": "markdown",
   "id": "7d0b9f6d-ceff-421c-9b79-127c8ccb325b",
   "metadata": {
    "tags": []
   },
   "source": [
    "# Operadores Basicos"
   ]
  },
  {
   "cell_type": "markdown",
   "id": "0572b1af-2be6-4e9d-a209-106a65b1d60e",
   "metadata": {
    "tags": []
   },
   "source": [
    "## Relacionales\n"
   ]
  },
  {
   "cell_type": "code",
   "execution_count": 4,
   "id": "77a06230-a3c8-4d09-bf60-fca42080b566",
   "metadata": {},
   "outputs": [
    {
     "name": "stdout",
     "output_type": "stream",
     "text": [
      "[1] TRUE\n",
      "[1] TRUE\n",
      "[1] FALSE\n",
      "[1] FALSE\n",
      "[1] FALSE\n",
      "[1] TRUE\n"
     ]
    }
   ],
   "source": [
    "print(0 < 1)\n",
    "print(0 <= 1)\n",
    "print(0 > 1)\n",
    "print(0 >= 1)\n",
    "print(0 == 1)\n",
    "print(0 != 1)"
   ]
  },
  {
   "cell_type": "markdown",
   "id": "80f96f3a-4df9-4127-b7ab-70ea75669cb9",
   "metadata": {
    "tags": []
   },
   "source": [
    "## Aritméticos"
   ]
  },
  {
   "cell_type": "code",
   "execution_count": 5,
   "id": "2e57cdd6-b0e3-4f40-9654-633ed849e4ee",
   "metadata": {},
   "outputs": [
    {
     "name": "stdout",
     "output_type": "stream",
     "text": [
      "[1] 3\n",
      "[1] -1\n",
      "[1] 0.5\n",
      "[1] 2\n",
      "[1] 4\n",
      "[1] 1\n",
      "[1] 0\n"
     ]
    }
   ],
   "source": [
    "x <- 2\n",
    "y <- 1\n",
    "print(y+x) # adicion\n",
    "print(y-x) # diferencia\n",
    "print(y/x) # division\n",
    "print(y*x) # multiplicacion\n",
    "print(x^2) # exponenciacion\n",
    "print(y%%x) # modulo\n",
    "print(y%/%x) # division entera"
   ]
  },
  {
   "cell_type": "markdown",
   "id": "97ce8cc4-a2ad-4ed6-81ff-ba10e1bc50b6",
   "metadata": {
    "tags": []
   },
   "source": [
    "# Tipos de Datos y Estructuras de Datos"
   ]
  },
  {
   "cell_type": "markdown",
   "id": "fcafb7fd-633b-47cb-a8f3-e444aab58f90",
   "metadata": {
    "tags": []
   },
   "source": [
    "## Numerico:"
   ]
  },
  {
   "cell_type": "code",
   "execution_count": 6,
   "id": "08f80517-9b05-431c-8afc-e781d75137d1",
   "metadata": {},
   "outputs": [
    {
     "data": {
      "text/html": [
       "'numeric'"
      ],
      "text/latex": [
       "'numeric'"
      ],
      "text/markdown": [
       "'numeric'"
      ],
      "text/plain": [
       "[1] \"numeric\""
      ]
     },
     "metadata": {},
     "output_type": "display_data"
    }
   ],
   "source": [
    "x <- 15.56\n",
    "class(x)"
   ]
  },
  {
   "cell_type": "markdown",
   "id": "d1564cf3-4f78-4d55-bfe3-068ca050afd4",
   "metadata": {},
   "source": [
    "## Complejo"
   ]
  },
  {
   "cell_type": "code",
   "execution_count": 7,
   "id": "025a7ff1-3d56-4c69-9faa-9587d44f3eab",
   "metadata": {},
   "outputs": [
    {
     "data": {
      "text/html": [
       "'complex'"
      ],
      "text/latex": [
       "'complex'"
      ],
      "text/markdown": [
       "'complex'"
      ],
      "text/plain": [
       "[1] \"complex\""
      ]
     },
     "metadata": {},
     "output_type": "display_data"
    }
   ],
   "source": [
    "x <- 3i + 1\n",
    "class(x)"
   ]
  },
  {
   "cell_type": "markdown",
   "id": "43cdf709-c488-4644-b090-7a8de9b152f6",
   "metadata": {
    "tags": []
   },
   "source": [
    "## Entero:"
   ]
  },
  {
   "cell_type": "markdown",
   "id": "a47f7a0f-6687-46c7-ad22-e100ea549cde",
   "metadata": {},
   "source": [
    "La letra \"L\" al final, fuerza a que el número sea entero"
   ]
  },
  {
   "cell_type": "code",
   "execution_count": 8,
   "id": "e2d6ee1d-50a1-4fe8-9429-83118babad6b",
   "metadata": {},
   "outputs": [
    {
     "data": {
      "text/html": [
       "'integer'"
      ],
      "text/latex": [
       "'integer'"
      ],
      "text/markdown": [
       "'integer'"
      ],
      "text/plain": [
       "[1] \"integer\""
      ]
     },
     "metadata": {},
     "output_type": "display_data"
    }
   ],
   "source": [
    "x <- 15L\n",
    "class(x)"
   ]
  },
  {
   "cell_type": "markdown",
   "id": "2a3987e9-6ad7-4791-92ea-0ce2d6961b5e",
   "metadata": {},
   "source": [
    "## Logico"
   ]
  },
  {
   "cell_type": "code",
   "execution_count": 9,
   "id": "b358e99e-282d-41a0-8ae1-3eedd05f83e2",
   "metadata": {},
   "outputs": [
    {
     "data": {
      "text/html": [
       "'logical'"
      ],
      "text/latex": [
       "'logical'"
      ],
      "text/markdown": [
       "'logical'"
      ],
      "text/plain": [
       "[1] \"logical\""
      ]
     },
     "metadata": {},
     "output_type": "display_data"
    }
   ],
   "source": [
    "x <- TRUE\n",
    "x <- FALSE\n",
    "class(x)"
   ]
  },
  {
   "cell_type": "markdown",
   "id": "2a34132e-f9ef-48ce-96bb-b31074d71a97",
   "metadata": {
    "tags": []
   },
   "source": [
    "## Caracter:"
   ]
  },
  {
   "cell_type": "code",
   "execution_count": 10,
   "id": "f1979823-9d89-4618-8ec3-15c586fb28f9",
   "metadata": {},
   "outputs": [
    {
     "data": {
      "text/html": [
       "'character'"
      ],
      "text/latex": [
       "'character'"
      ],
      "text/markdown": [
       "'character'"
      ],
      "text/plain": [
       "[1] \"character\""
      ]
     },
     "metadata": {},
     "output_type": "display_data"
    }
   ],
   "source": [
    "x <- \"Ahora x es una cadena\"\n",
    "class(x)"
   ]
  },
  {
   "cell_type": "markdown",
   "id": "c85b144a-b638-4641-a244-889d2a4abaf5",
   "metadata": {
    "tags": []
   },
   "source": [
    "## Vectores:"
   ]
  },
  {
   "cell_type": "markdown",
   "id": "920968c5-ce9f-4755-aab6-6230cff54fd0",
   "metadata": {},
   "source": [
    "Están permitidas operaciones como muliplicación, división, suma y resta"
   ]
  },
  {
   "cell_type": "code",
   "execution_count": 11,
   "id": "d9564113-1a8c-4701-ad97-0541b244a5b4",
   "metadata": {},
   "outputs": [
    {
     "name": "stdout",
     "output_type": "stream",
     "text": [
      "[1] \"A\" \"B\" \"C\" NA \n"
     ]
    }
   ],
   "source": [
    "# Admite SOLO del mismo tipo\n",
    "x <- c(\"A\", \"B\", \"C\", NA)\n",
    "print(x)"
   ]
  },
  {
   "cell_type": "markdown",
   "id": "932a40a3-fee9-4357-a77a-1f50fb705401",
   "metadata": {},
   "source": [
    "**NA** es **Not Available**, es una constante lógica empleada para indicar que no se registró valor alguno para un elemento"
   ]
  },
  {
   "cell_type": "code",
   "execution_count": 12,
   "id": "a7c06da4-944a-4a20-a015-363edc01942f",
   "metadata": {},
   "outputs": [
    {
     "name": "stdout",
     "output_type": "stream",
     "text": [
      "A B C \n",
      "1 2 3 \n"
     ]
    }
   ],
   "source": [
    "# Con claves y valores\n",
    "x <- c(\"A\"=1, \"B\"=2, \"C\"=3)\n",
    "print(x)"
   ]
  },
  {
   "cell_type": "code",
   "execution_count": 13,
   "id": "57e25192-990c-47d2-9edb-87014a79be82",
   "metadata": {},
   "outputs": [
    {
     "name": "stdout",
     "output_type": "stream",
     "text": [
      "A \n",
      "1 \n"
     ]
    }
   ],
   "source": [
    "# Accediendo al arreglo, se comienza a contar desde 1\n",
    "print(x[1])"
   ]
  },
  {
   "cell_type": "code",
   "execution_count": 14,
   "id": "bae7c1b0-9bd7-47e3-99e5-746b6a9cec52",
   "metadata": {},
   "outputs": [
    {
     "name": "stdout",
     "output_type": "stream",
     "text": [
      "B C \n",
      "2 3 \n"
     ]
    }
   ],
   "source": [
    "# Se salta el elemento del arreglo\n",
    "print(x[-1])"
   ]
  },
  {
   "cell_type": "code",
   "execution_count": 15,
   "id": "50502965-9958-421b-a8f9-ad28ba0c9969",
   "metadata": {},
   "outputs": [
    {
     "name": "stdout",
     "output_type": "stream",
     "text": [
      "B C \n",
      "2 3 \n"
     ]
    }
   ],
   "source": [
    "# Para realizar rebanadas o slices\n",
    "print(x[2:3])"
   ]
  },
  {
   "cell_type": "markdown",
   "id": "61357788-12ad-44e8-bbc2-0f41f538bb26",
   "metadata": {
    "tags": []
   },
   "source": [
    "## Listas:"
   ]
  },
  {
   "cell_type": "code",
   "execution_count": 16,
   "id": "2fe71eb4-8273-4d26-ae75-cf4529ca76e9",
   "metadata": {},
   "outputs": [
    {
     "name": "stdout",
     "output_type": "stream",
     "text": [
      "[[1]]\n",
      "[1] \"texto\"\n",
      "\n",
      "[[2]]\n",
      "[1] 3.14\n",
      "\n",
      "[[3]]\n",
      "[1] 3\n",
      "\n",
      "[[4]]\n",
      "[1] 1 2 3\n",
      "\n",
      "$clave\n",
      "[1] \"valor\"\n",
      "\n"
     ]
    }
   ],
   "source": [
    "# Admiten diferentes tipos\n",
    "x <- list(\"texto\", 3.14, 3L, c(1, 2, 3), \"clave\"=\"valor\")\n",
    "print(x)"
   ]
  },
  {
   "cell_type": "code",
   "execution_count": 17,
   "id": "0082b4b4-c763-4908-86cc-7d418c1f7128",
   "metadata": {},
   "outputs": [
    {
     "name": "stdout",
     "output_type": "stream",
     "text": [
      "[1] \"valor\"\n",
      "[1] \"valor\"\n"
     ]
    }
   ],
   "source": [
    "# Accediendo a un valor dada una clave\n",
    "print(x$clave)\n",
    "# Otra forma\n",
    "print(x[[\"clave\"]])"
   ]
  },
  {
   "cell_type": "markdown",
   "id": "deeb3a19-ccb1-49ee-a08d-34fc775777fa",
   "metadata": {
    "tags": []
   },
   "source": [
    "## DataFrames:"
   ]
  },
  {
   "cell_type": "code",
   "execution_count": 18,
   "id": "7107aca9-58f6-49d2-a841-99dad4cec82e",
   "metadata": {},
   "outputs": [
    {
     "name": "stdout",
     "output_type": "stream",
     "text": [
      "  edad   nombre\n",
      "1   17     Juan\n",
      "2   18     José\n",
      "3   22 Giovanni\n",
      "4   27 Giuseppe\n"
     ]
    }
   ],
   "source": [
    "# Admiten diferentes tipos\n",
    "x <- data.frame(\"edad\" = c(17, 18, 22, 27), \"nombre\" = c(\"Juan\", \"José\", \"Giovanni\", \"Giuseppe\"))\n",
    "print(x)"
   ]
  },
  {
   "cell_type": "code",
   "execution_count": 19,
   "id": "4e605f42-bb61-405f-b6ee-6a4f595a24db",
   "metadata": {},
   "outputs": [
    {
     "name": "stdout",
     "output_type": "stream",
     "text": [
      "  edad   nombre\n",
      "2   18     José\n",
      "3   22 Giovanni\n",
      "4   27 Giuseppe\n"
     ]
    }
   ],
   "source": [
    "# Filtrar data set\n",
    "print(x[x$edad >= 18,])"
   ]
  },
  {
   "cell_type": "markdown",
   "id": "74a140fb-b688-44ab-bea1-ff64d4331cc9",
   "metadata": {},
   "source": [
    "**La (,) al final de la expresión es necesaria para retornar todas las columnas**"
   ]
  },
  {
   "cell_type": "code",
   "execution_count": 20,
   "id": "bd212572-5fe5-4252-8068-976464141c3c",
   "metadata": {},
   "outputs": [
    {
     "name": "stdout",
     "output_type": "stream",
     "text": [
      "  edad   nombre\n",
      "3   22 Giovanni\n",
      "4   27 Giuseppe\n"
     ]
    }
   ],
   "source": [
    "# Más prolijo\n",
    "print(subset(x, edad > 21))"
   ]
  },
  {
   "cell_type": "code",
   "execution_count": 21,
   "id": "a3cb28f6-26e3-4ac6-a9e1-6598c3562277",
   "metadata": {},
   "outputs": [
    {
     "name": "stdout",
     "output_type": "stream",
     "text": [
      "  edad   nombre\n",
      "2   18     José\n",
      "3   22 Giovanni\n"
     ]
    }
   ],
   "source": [
    "print(subset(x, (edad > 17 & edad < 27)))"
   ]
  },
  {
   "cell_type": "markdown",
   "id": "c10f91d3-dad5-4327-b0c4-e4da6b3edb36",
   "metadata": {},
   "source": [
    "## Matrices"
   ]
  },
  {
   "cell_type": "markdown",
   "id": "4ec496e0-5d0c-4d9c-8683-ed509fad8b9c",
   "metadata": {},
   "source": [
    "Soporta suma, resta, multiplicación y división"
   ]
  },
  {
   "cell_type": "code",
   "execution_count": 22,
   "id": "0b94e4b9-16f3-4b0f-8b9e-8cf9a7b0eebf",
   "metadata": {},
   "outputs": [
    {
     "name": "stdout",
     "output_type": "stream",
     "text": [
      "  X Y Z\n",
      "A 1 4 7\n",
      "B 2 5 8\n",
      "C 3 6 9\n"
     ]
    }
   ],
   "source": [
    "data <- c(1:9)\n",
    "M <- matrix(\n",
    "    data,\n",
    "    nrow=3,\n",
    "    ncol=3,\n",
    "    dimnames=list(c('A','B','C'), c('X','Y','Z'))\n",
    ")\n",
    "print(M)"
   ]
  },
  {
   "cell_type": "code",
   "execution_count": 23,
   "id": "c4edb56f-4b18-417e-b867-3502ac122b0b",
   "metadata": {},
   "outputs": [
    {
     "data": {
      "text/html": [
       "<table class=\"dataframe\">\n",
       "<caption>A matrix: 3 × 3 of type int</caption>\n",
       "<thead>\n",
       "\t<tr><th></th><th scope=col>A</th><th scope=col>B</th><th scope=col>C</th></tr>\n",
       "</thead>\n",
       "<tbody>\n",
       "\t<tr><th scope=row>X</th><td>1</td><td>2</td><td>3</td></tr>\n",
       "\t<tr><th scope=row>Y</th><td>4</td><td>5</td><td>6</td></tr>\n",
       "\t<tr><th scope=row>Z</th><td>7</td><td>8</td><td>9</td></tr>\n",
       "</tbody>\n",
       "</table>\n"
      ],
      "text/latex": [
       "A matrix: 3 × 3 of type int\n",
       "\\begin{tabular}{r|lll}\n",
       "  & A & B & C\\\\\n",
       "\\hline\n",
       "\tX & 1 & 2 & 3\\\\\n",
       "\tY & 4 & 5 & 6\\\\\n",
       "\tZ & 7 & 8 & 9\\\\\n",
       "\\end{tabular}\n"
      ],
      "text/markdown": [
       "\n",
       "A matrix: 3 × 3 of type int\n",
       "\n",
       "| <!--/--> | A | B | C |\n",
       "|---|---|---|---|\n",
       "| X | 1 | 2 | 3 |\n",
       "| Y | 4 | 5 | 6 |\n",
       "| Z | 7 | 8 | 9 |\n",
       "\n"
      ],
      "text/plain": [
       "  A B C\n",
       "X 1 2 3\n",
       "Y 4 5 6\n",
       "Z 7 8 9"
      ]
     },
     "metadata": {},
     "output_type": "display_data"
    }
   ],
   "source": [
    "# Traspuesta\n",
    "t(M)"
   ]
  },
  {
   "cell_type": "code",
   "execution_count": 24,
   "id": "e956e764-2a76-408c-be37-6ee1fa0e6050",
   "metadata": {},
   "outputs": [
    {
     "data": {
      "text/html": [
       "<style>\n",
       ".list-inline {list-style: none; margin:0; padding: 0}\n",
       ".list-inline>li {display: inline-block}\n",
       ".list-inline>li:not(:last-child)::after {content: \"\\00b7\"; padding: 0 .5ex}\n",
       "</style>\n",
       "<ol class=list-inline><li>3</li><li>3</li></ol>\n"
      ],
      "text/latex": [
       "\\begin{enumerate*}\n",
       "\\item 3\n",
       "\\item 3\n",
       "\\end{enumerate*}\n"
      ],
      "text/markdown": [
       "1. 3\n",
       "2. 3\n",
       "\n",
       "\n"
      ],
      "text/plain": [
       "[1] 3 3"
      ]
     },
     "metadata": {},
     "output_type": "display_data"
    }
   ],
   "source": [
    "# Dimension\n",
    "dim(M)"
   ]
  },
  {
   "cell_type": "code",
   "execution_count": 25,
   "id": "eb4e6942-a939-4864-960f-e0def64b2194",
   "metadata": {},
   "outputs": [
    {
     "data": {
      "text/html": [
       "0"
      ],
      "text/latex": [
       "0"
      ],
      "text/markdown": [
       "0"
      ],
      "text/plain": [
       "[1] 0"
      ]
     },
     "metadata": {},
     "output_type": "display_data"
    }
   ],
   "source": [
    "# Determinante\n",
    "det(M)"
   ]
  },
  {
   "cell_type": "code",
   "execution_count": 26,
   "id": "d07b65e4-7acd-4ded-815b-28b1d0f0b1a5",
   "metadata": {},
   "outputs": [
    {
     "data": {
      "text/html": [
       "8"
      ],
      "text/latex": [
       "8"
      ],
      "text/markdown": [
       "8"
      ],
      "text/plain": [
       "[1] 8"
      ]
     },
     "metadata": {},
     "output_type": "display_data"
    }
   ],
   "source": [
    "# Accediendo a la segunda fila, tercer columna\n",
    "M[2,3]"
   ]
  },
  {
   "cell_type": "markdown",
   "id": "09552183-549a-4017-932a-57eb2fc33ec2",
   "metadata": {
    "tags": []
   },
   "source": [
    "# Salidas"
   ]
  },
  {
   "cell_type": "markdown",
   "id": "dadf5f89-a6a3-44a5-9e66-be951acbbacc",
   "metadata": {
    "tags": []
   },
   "source": [
    "## print()\n"
   ]
  },
  {
   "cell_type": "markdown",
   "id": "9ed2b33d-6d48-40f9-8ae5-2d749acad912",
   "metadata": {},
   "source": [
    "La salida es literal, no permite escapar caracteres"
   ]
  },
  {
   "cell_type": "code",
   "execution_count": 27,
   "id": "d5e20183-ff43-4d06-94d1-a187cf1760a9",
   "metadata": {},
   "outputs": [
    {
     "name": "stdout",
     "output_type": "stream",
     "text": [
      "[1] \"Hola\\nMundo!\"\n"
     ]
    }
   ],
   "source": [
    "print(\"Hola\\nMundo!\")"
   ]
  },
  {
   "cell_type": "markdown",
   "id": "17dc8c72-40b8-41a9-81a0-ca9f68d4ca5b",
   "metadata": {},
   "source": [
    "## cat()"
   ]
  },
  {
   "cell_type": "markdown",
   "id": "9d7dddf3-dfda-49a2-8a04-bf4fc0cdaaa9",
   "metadata": {},
   "source": [
    "Permite escapar caracteres"
   ]
  },
  {
   "cell_type": "code",
   "execution_count": 28,
   "id": "0b3888f2-c917-4f43-a160-2f100f9d250c",
   "metadata": {},
   "outputs": [
    {
     "name": "stdout",
     "output_type": "stream",
     "text": [
      "Hola\n",
      "Mundo!"
     ]
    }
   ],
   "source": [
    "cat(\"Hola\\nMundo!\")"
   ]
  },
  {
   "cell_type": "markdown",
   "id": "4a4bdeac-f294-4b96-888e-c78500c66bd8",
   "metadata": {
    "tags": []
   },
   "source": [
    "# Entradas"
   ]
  },
  {
   "cell_type": "code",
   "execution_count": 29,
   "id": "85a63b23-b7cd-4676-8d1e-1d979e67fe04",
   "metadata": {},
   "outputs": [],
   "source": [
    "input <- readLines('stdin')"
   ]
  },
  {
   "cell_type": "code",
   "execution_count": 30,
   "id": "f7062552-e08e-4b5b-b2ac-d3d5e3d05137",
   "metadata": {},
   "outputs": [],
   "source": [
    "x <- input[1]"
   ]
  },
  {
   "cell_type": "markdown",
   "id": "a943d8e8-4480-4a1a-b317-ed38c42f1908",
   "metadata": {
    "tags": []
   },
   "source": [
    "# Estructuras de Control"
   ]
  },
  {
   "cell_type": "markdown",
   "id": "9e5fe288-3779-4e95-ad37-593e885990bf",
   "metadata": {
    "tags": []
   },
   "source": [
    "## Selectivas:"
   ]
  },
  {
   "cell_type": "markdown",
   "id": "412edf12-e9b4-497c-9c71-17245845c0f4",
   "metadata": {
    "tags": []
   },
   "source": [
    "### if-else"
   ]
  },
  {
   "cell_type": "code",
   "execution_count": 31,
   "id": "30f28b29-37d3-4263-bca2-9d2cfc77701f",
   "metadata": {},
   "outputs": [
    {
     "name": "stdout",
     "output_type": "stream",
     "text": [
      "[1] \"opcion 3\"\n"
     ]
    }
   ],
   "source": [
    "if (TRUE & !TRUE){ #AND y NOT\n",
    "    print(\"opcion 1\")\n",
    "}else if(!TRUE | FALSE){ #OR\n",
    "    print(\"opcion 2\")\n",
    "}else{\n",
    "    print(\"opcion 3\")\n",
    "}"
   ]
  },
  {
   "cell_type": "markdown",
   "id": "8d6463e8-e22f-4d87-bc0f-3bc3911858e0",
   "metadata": {},
   "source": [
    "### switch()"
   ]
  },
  {
   "cell_type": "code",
   "execution_count": 32,
   "id": "b2eb2f70-fa6e-4be1-baab-fe70b2d0930d",
   "metadata": {},
   "outputs": [
    {
     "name": "stdout",
     "output_type": "stream",
     "text": [
      "[1] \"Tres\"\n"
     ]
    }
   ],
   "source": [
    "valor <- 3\n",
    "salida <- switch(\n",
    "    valor,\n",
    "    \"Uno\",\n",
    "    \"Dos\",\n",
    "    \"Tres\"\n",
    ")\n",
    "print(salida)"
   ]
  },
  {
   "cell_type": "markdown",
   "id": "f0385fdc-074a-4d8c-a0bd-f7bb3bd6074b",
   "metadata": {},
   "source": [
    "## Iterativas:"
   ]
  },
  {
   "cell_type": "markdown",
   "id": "15261612-d14f-4fbc-892f-368bc1df4080",
   "metadata": {},
   "source": [
    "### while()\n"
   ]
  },
  {
   "cell_type": "code",
   "execution_count": 33,
   "id": "a84917ab-68c2-4e7d-8dd0-2cf8cca0cc55",
   "metadata": {},
   "outputs": [
    {
     "name": "stdout",
     "output_type": "stream",
     "text": [
      "[1] 1\n",
      "[1] 2\n",
      "[1] 3\n",
      "[1] 4\n"
     ]
    }
   ],
   "source": [
    "condicion <- TRUE\n",
    "i <- 1\n",
    "while(condicion){ # Bucle infinito\n",
    "    print(i)\n",
    "    i <- i + 1\n",
    "    if(i == 3)\n",
    "        next # Salta directamente a la siguiente iteracion\n",
    "    if(i == 3) # No se ejecuta\n",
    "        break\n",
    "    if(i == 5)\n",
    "        break # Detiene, rompe la estructura\n",
    "}"
   ]
  },
  {
   "cell_type": "markdown",
   "id": "179d063a-1d1d-4a12-a5a3-0c905be1ec52",
   "metadata": {},
   "source": [
    "### for()"
   ]
  },
  {
   "cell_type": "code",
   "execution_count": 34,
   "id": "54bb1ae1-5114-4091-bd8d-ee2eef79c954",
   "metadata": {},
   "outputs": [
    {
     "name": "stdout",
     "output_type": "stream",
     "text": [
      "[1] 2\n",
      "[1] 3\n",
      "[1] 4\n",
      "[1] 5\n",
      "[1] 6\n",
      "[1] 7\n",
      "[1] 8\n",
      "[1] 9\n",
      "[1] 10\n"
     ]
    }
   ],
   "source": [
    "desde <- 2\n",
    "hasta <- 10\n",
    "for(x in desde:hasta){\n",
    "    print(x)\n",
    "}"
   ]
  },
  {
   "cell_type": "code",
   "execution_count": 35,
   "id": "e1aadeee-31c8-4831-86c7-312d6eba7c00",
   "metadata": {},
   "outputs": [
    {
     "name": "stdout",
     "output_type": "stream",
     "text": [
      "[1] \"A\"\n",
      "[1] \"B\"\n",
      "[1] \"C\"\n"
     ]
    }
   ],
   "source": [
    "n <- c('A', 'B', 'C')\n",
    "for(x in n){\n",
    "    print(x)\n",
    "}"
   ]
  },
  {
   "cell_type": "markdown",
   "id": "5912491a-e9aa-44e1-9af0-fa888583c031",
   "metadata": {},
   "source": [
    "### repeat()"
   ]
  },
  {
   "cell_type": "code",
   "execution_count": 36,
   "id": "fa0c2495-f3b0-46eb-a7fd-a33395ad8111",
   "metadata": {},
   "outputs": [
    {
     "name": "stdout",
     "output_type": "stream",
     "text": [
      "[1] 1\n",
      "[1] 2\n",
      "[1] 3\n",
      "[1] 4\n"
     ]
    }
   ],
   "source": [
    "i <- 1\n",
    "# Similar a un while(TRUE)\n",
    "repeat{\n",
    "    print(i)\n",
    "    i <- i + 1\n",
    "    if(i == 5)\n",
    "        break\n",
    "}"
   ]
  },
  {
   "cell_type": "markdown",
   "id": "9565d193-ab02-424f-b06b-cf623eaef5a6",
   "metadata": {},
   "source": [
    "# Funciones"
   ]
  },
  {
   "cell_type": "markdown",
   "id": "4d5c10df-ece5-4c20-8cb2-6f6b3d30d6b5",
   "metadata": {},
   "source": [
    "## Declarando una función"
   ]
  },
  {
   "cell_type": "code",
   "execution_count": 37,
   "id": "39ae0fd3-c00c-4e51-b1b2-6764a71ed12e",
   "metadata": {},
   "outputs": [
    {
     "name": "stdout",
     "output_type": "stream",
     "text": [
      "Hola mundo!\n"
     ]
    }
   ],
   "source": [
    "nombre_funcion <- function(x=\"Hola\", y=\"mundo!\"){\n",
    "    salida <- paste(x, \" \", y, \"\\n\", sep='')\n",
    "    # permite combinar varias lineas en una\n",
    "    return(salida)\n",
    "}\n",
    "\n",
    "cat(nombre_funcion())"
   ]
  },
  {
   "cell_type": "markdown",
   "id": "b3b00c7a-3589-4daa-b60c-2583fe0e2795",
   "metadata": {},
   "source": [
    "## Funciones de utilidad"
   ]
  },
  {
   "cell_type": "markdown",
   "id": "9f615f9f-f4f2-4700-b42b-109013366c76",
   "metadata": {},
   "source": [
    "#### length()"
   ]
  },
  {
   "cell_type": "markdown",
   "id": "d386b61d-a228-4ddd-a7f9-f6ba57d4dad4",
   "metadata": {},
   "source": [
    "\n",
    "Retorna el numero de elementos en una estructura"
   ]
  },
  {
   "cell_type": "markdown",
   "id": "545c2bd3-45e2-4563-bc8f-54eb426ff345",
   "metadata": {},
   "source": [
    "#### seq()"
   ]
  },
  {
   "cell_type": "markdown",
   "id": "4212bc4e-71c8-4c49-b719-f8720e754448",
   "metadata": {},
   "source": [
    "Genera una secuencia"
   ]
  },
  {
   "cell_type": "code",
   "execution_count": 38,
   "id": "89e4fd08-5f7e-424e-989c-649938ec0368",
   "metadata": {},
   "outputs": [
    {
     "data": {
      "text/html": [
       "'numeric'"
      ],
      "text/latex": [
       "'numeric'"
      ],
      "text/markdown": [
       "'numeric'"
      ],
      "text/plain": [
       "[1] \"numeric\""
      ]
     },
     "metadata": {},
     "output_type": "display_data"
    }
   ],
   "source": [
    "x <- seq(from=1, to=10, by=2)\n",
    "class(x)"
   ]
  },
  {
   "cell_type": "markdown",
   "id": "f84e7729-2602-49c9-8d6f-9b472d1fcc50",
   "metadata": {},
   "source": [
    "#### sum()"
   ]
  },
  {
   "cell_type": "markdown",
   "id": "da506a7b-59dc-46eb-b091-1c1d437fa2aa",
   "metadata": {},
   "source": [
    "Retorna la suma de los elementos pasados como argumento"
   ]
  },
  {
   "cell_type": "markdown",
   "id": "bca39a8d-1476-478f-8c82-f8de9726d26f",
   "metadata": {},
   "source": [
    "#### max()"
   ]
  },
  {
   "cell_type": "markdown",
   "id": "d1338a15-040e-47e9-8f9d-3cd399728e3f",
   "metadata": {},
   "source": [
    "Retorna el valor máximo de los elementos pasados como argumento"
   ]
  },
  {
   "cell_type": "markdown",
   "id": "cb5f2c2e-72a1-4bd3-868b-9c3ddd925994",
   "metadata": {},
   "source": [
    "#### min()"
   ]
  },
  {
   "cell_type": "markdown",
   "id": "8815bba3-ac29-405d-88ff-3a174c1e0663",
   "metadata": {},
   "source": [
    "Retorna el valor máximo de los elementos pasados como argumento"
   ]
  },
  {
   "cell_type": "markdown",
   "id": "ff6c452c-c628-4aac-b8d0-6b778777911d",
   "metadata": {},
   "source": [
    "#### mean()"
   ]
  },
  {
   "cell_type": "markdown",
   "id": "261d53ac-77d0-4bb5-b6fa-4df030692a04",
   "metadata": {},
   "source": [
    "Retorna el promedio de los elementos pasados como argumento"
   ]
  },
  {
   "cell_type": "markdown",
   "id": "10371c0a-82d7-41f2-bb8c-62858aced9a4",
   "metadata": {},
   "source": [
    "#### median()"
   ]
  },
  {
   "cell_type": "markdown",
   "id": "40aeb9ac-94bd-4fb9-9d54-e2dcf7f5bbb0",
   "metadata": {},
   "source": [
    "Retorna la mediana de los elementos pasados como argumento"
   ]
  },
  {
   "cell_type": "markdown",
   "id": "4e1b0602-8867-45d4-bd67-fe728deb4ed4",
   "metadata": {},
   "source": [
    "#### var()"
   ]
  },
  {
   "cell_type": "markdown",
   "id": "cf4e142c-17a2-458a-9470-3abed5c41820",
   "metadata": {},
   "source": [
    "Retorna la varianza de los elementos pasados como argumento"
   ]
  },
  {
   "cell_type": "markdown",
   "id": "ae110cc6-1485-4bb0-bb0a-086589723dd6",
   "metadata": {},
   "source": [
    "#### cov()"
   ]
  },
  {
   "cell_type": "markdown",
   "id": "4cd137e6-2b30-4953-b3cc-ec41502b33fe",
   "metadata": {},
   "source": [
    "Retorna la covarianza entre los elementos pasados como argumento"
   ]
  },
  {
   "cell_type": "markdown",
   "id": "16999779-7225-4278-8bb6-3a8b45ebdcd6",
   "metadata": {},
   "source": [
    "#### cor()"
   ]
  },
  {
   "cell_type": "markdown",
   "id": "d32525dc-7a47-4517-a381-c1fbaadd8c49",
   "metadata": {},
   "source": [
    "Permite calcular el coeficiente de correlación de Pearson, Kendall o Spearman para dos variables cuantitativas"
   ]
  },
  {
   "cell_type": "markdown",
   "id": "df0ecb05-ea1f-46bf-bda6-62b41ef38284",
   "metadata": {},
   "source": [
    "#### sd()"
   ]
  },
  {
   "cell_type": "markdown",
   "id": "1bc94a85-1ef9-4059-9f4c-50993d7d182e",
   "metadata": {},
   "source": [
    "Retorna la desvación estandar de los elementos pasados como argumento"
   ]
  },
  {
   "cell_type": "markdown",
   "id": "9011137e-9c2c-490d-8010-e44d25a70951",
   "metadata": {},
   "source": [
    "#### IRQ()"
   ]
  },
  {
   "cell_type": "markdown",
   "id": "77fdd9ab-c7b9-46fa-87ff-d08c96c80c80",
   "metadata": {},
   "source": [
    "Retorna el rango intercuartil de los elementos pasados como argumento"
   ]
  },
  {
   "cell_type": "markdown",
   "id": "ab20649e-23d9-4bb7-9b9d-688ddb97d5cf",
   "metadata": {},
   "source": [
    "#### summary()"
   ]
  },
  {
   "cell_type": "markdown",
   "id": "99bfce04-200b-4871-933c-5fd449d5abc0",
   "metadata": {},
   "source": [
    "Enseña la media, mediana, maximos, mínimos y cuartiles"
   ]
  },
  {
   "cell_type": "markdown",
   "id": "751fab16-8f97-44f0-8b43-5556b49c98fd",
   "metadata": {},
   "source": [
    "#### quantile()"
   ]
  },
  {
   "cell_type": "markdown",
   "id": "6a2e9fa1-52be-4736-b566-1630e30a75ef",
   "metadata": {},
   "source": [
    "Retorna los cuartiles de los elementos pasados como argumento"
   ]
  },
  {
   "cell_type": "code",
   "execution_count": 39,
   "id": "b9f8c293-1e36-46d5-84a1-70dedd9a2362",
   "metadata": {},
   "outputs": [
    {
     "data": {
      "text/html": [
       "18"
      ],
      "text/latex": [
       "18"
      ],
      "text/markdown": [
       "18"
      ],
      "text/plain": [
       "[1] 18"
      ]
     },
     "metadata": {},
     "output_type": "display_data"
    }
   ],
   "source": [
    "data = c(1, 3, 3, 4, 5, 7, 8, 9, 12, 13, 13, 15, 18, 20, 22, 23, 24, 28)\n",
    "length(data)"
   ]
  },
  {
   "cell_type": "code",
   "execution_count": 40,
   "id": "0602ee5b-d018-43ab-bf59-81def1823b23",
   "metadata": {},
   "outputs": [
    {
     "data": {
      "text/html": [
       "<style>\n",
       ".dl-inline {width: auto; margin:0; padding: 0}\n",
       ".dl-inline>dt, .dl-inline>dd {float: none; width: auto; display: inline-block}\n",
       ".dl-inline>dt::after {content: \":\\0020\"; padding-right: .5ex}\n",
       ".dl-inline>dt:not(:first-of-type) {padding-left: .5ex}\n",
       "</style><dl class=dl-inline><dt>0%</dt><dd>1</dd><dt>25%</dt><dd>5.5</dd><dt>50%</dt><dd>12.5</dd><dt>75%</dt><dd>19.5</dd><dt>100%</dt><dd>28</dd></dl>\n"
      ],
      "text/latex": [
       "\\begin{description*}\n",
       "\\item[0\\textbackslash{}\\%] 1\n",
       "\\item[25\\textbackslash{}\\%] 5.5\n",
       "\\item[50\\textbackslash{}\\%] 12.5\n",
       "\\item[75\\textbackslash{}\\%] 19.5\n",
       "\\item[100\\textbackslash{}\\%] 28\n",
       "\\end{description*}\n"
      ],
      "text/markdown": [
       "0%\n",
       ":   125%\n",
       ":   5.550%\n",
       ":   12.575%\n",
       ":   19.5100%\n",
       ":   28\n",
       "\n"
      ],
      "text/plain": [
       "  0%  25%  50%  75% 100% \n",
       " 1.0  5.5 12.5 19.5 28.0 "
      ]
     },
     "metadata": {},
     "output_type": "display_data"
    }
   ],
   "source": [
    "# cuartiles\n",
    "quantile(data, probs = seq(0, 1, 1/4))"
   ]
  },
  {
   "cell_type": "code",
   "execution_count": 41,
   "id": "ead3a53e-3856-4322-a4d0-5c530eb0ffa1",
   "metadata": {},
   "outputs": [
    {
     "data": {
      "text/html": [
       "<style>\n",
       ".dl-inline {width: auto; margin:0; padding: 0}\n",
       ".dl-inline>dt, .dl-inline>dd {float: none; width: auto; display: inline-block}\n",
       ".dl-inline>dt::after {content: \":\\0020\"; padding-right: .5ex}\n",
       ".dl-inline>dt:not(:first-of-type) {padding-left: .5ex}\n",
       "</style><dl class=dl-inline><dt>0%</dt><dd>1</dd><dt>20%</dt><dd>4.4</dd><dt>40%</dt><dd>8.8</dd><dt>60%</dt><dd>13.4</dd><dt>80%</dt><dd>21.2</dd><dt>100%</dt><dd>28</dd></dl>\n"
      ],
      "text/latex": [
       "\\begin{description*}\n",
       "\\item[0\\textbackslash{}\\%] 1\n",
       "\\item[20\\textbackslash{}\\%] 4.4\n",
       "\\item[40\\textbackslash{}\\%] 8.8\n",
       "\\item[60\\textbackslash{}\\%] 13.4\n",
       "\\item[80\\textbackslash{}\\%] 21.2\n",
       "\\item[100\\textbackslash{}\\%] 28\n",
       "\\end{description*}\n"
      ],
      "text/markdown": [
       "0%\n",
       ":   120%\n",
       ":   4.440%\n",
       ":   8.860%\n",
       ":   13.480%\n",
       ":   21.2100%\n",
       ":   28\n",
       "\n"
      ],
      "text/plain": [
       "  0%  20%  40%  60%  80% 100% \n",
       " 1.0  4.4  8.8 13.4 21.2 28.0 "
      ]
     },
     "metadata": {},
     "output_type": "display_data"
    }
   ],
   "source": [
    "# quintiles\n",
    "quantile(data, probs = seq(0, 1, 1/5))"
   ]
  },
  {
   "cell_type": "code",
   "execution_count": 42,
   "id": "1a11f012-bcfd-49b5-9226-80a14be8f1f8",
   "metadata": {},
   "outputs": [
    {
     "data": {
      "text/html": [
       "<style>\n",
       ".dl-inline {width: auto; margin:0; padding: 0}\n",
       ".dl-inline>dt, .dl-inline>dd {float: none; width: auto; display: inline-block}\n",
       ".dl-inline>dt::after {content: \":\\0020\"; padding-right: .5ex}\n",
       ".dl-inline>dt:not(:first-of-type) {padding-left: .5ex}\n",
       "</style><dl class=dl-inline><dt>0%</dt><dd>1</dd><dt>10%</dt><dd>3</dd><dt>20%</dt><dd>4.4</dd><dt>30%</dt><dd>7.1</dd><dt>40%</dt><dd>8.8</dd><dt>50%</dt><dd>12.5</dd><dt>60%</dt><dd>13.4</dd><dt>70%</dt><dd>17.7</dd><dt>80%</dt><dd>21.2</dd><dt>90%</dt><dd>23.3</dd><dt>100%</dt><dd>28</dd></dl>\n"
      ],
      "text/latex": [
       "\\begin{description*}\n",
       "\\item[0\\textbackslash{}\\%] 1\n",
       "\\item[10\\textbackslash{}\\%] 3\n",
       "\\item[20\\textbackslash{}\\%] 4.4\n",
       "\\item[30\\textbackslash{}\\%] 7.1\n",
       "\\item[40\\textbackslash{}\\%] 8.8\n",
       "\\item[50\\textbackslash{}\\%] 12.5\n",
       "\\item[60\\textbackslash{}\\%] 13.4\n",
       "\\item[70\\textbackslash{}\\%] 17.7\n",
       "\\item[80\\textbackslash{}\\%] 21.2\n",
       "\\item[90\\textbackslash{}\\%] 23.3\n",
       "\\item[100\\textbackslash{}\\%] 28\n",
       "\\end{description*}\n"
      ],
      "text/markdown": [
       "0%\n",
       ":   110%\n",
       ":   320%\n",
       ":   4.430%\n",
       ":   7.140%\n",
       ":   8.850%\n",
       ":   12.560%\n",
       ":   13.470%\n",
       ":   17.780%\n",
       ":   21.290%\n",
       ":   23.3100%\n",
       ":   28\n",
       "\n"
      ],
      "text/plain": [
       "  0%  10%  20%  30%  40%  50%  60%  70%  80%  90% 100% \n",
       " 1.0  3.0  4.4  7.1  8.8 12.5 13.4 17.7 21.2 23.3 28.0 "
      ]
     },
     "metadata": {},
     "output_type": "display_data"
    }
   ],
   "source": [
    "# deciles\n",
    "quantile(data, probs = seq(0, 1, 1/10))"
   ]
  },
  {
   "cell_type": "code",
   "execution_count": 43,
   "id": "4314d2ad-a195-4c61-91ce-f7c6a7fda6ca",
   "metadata": {},
   "outputs": [
    {
     "data": {
      "text/html": [
       "<style>\n",
       ".dl-inline {width: auto; margin:0; padding: 0}\n",
       ".dl-inline>dt, .dl-inline>dd {float: none; width: auto; display: inline-block}\n",
       ".dl-inline>dt::after {content: \":\\0020\"; padding-right: .5ex}\n",
       ".dl-inline>dt:not(:first-of-type) {padding-left: .5ex}\n",
       "</style><dl class=dl-inline><dt>37%</dt><dd>8.29</dd><dt>53%</dt><dd>13</dd><dt>87%</dt><dd>22.79</dd></dl>\n"
      ],
      "text/latex": [
       "\\begin{description*}\n",
       "\\item[37\\textbackslash{}\\%] 8.29\n",
       "\\item[53\\textbackslash{}\\%] 13\n",
       "\\item[87\\textbackslash{}\\%] 22.79\n",
       "\\end{description*}\n"
      ],
      "text/markdown": [
       "37%\n",
       ":   8.2953%\n",
       ":   1387%\n",
       ":   22.79\n",
       "\n"
      ],
      "text/plain": [
       "  37%   53%   87% \n",
       " 8.29 13.00 22.79 "
      ]
     },
     "metadata": {},
     "output_type": "display_data"
    }
   ],
   "source": [
    "# percentiles 37th, 53th y 87th\n",
    "quantile(data, probs = c(.37, .53, .87))"
   ]
  },
  {
   "cell_type": "markdown",
   "id": "5c90fae6-5332-47eb-bb3a-298ebdd7f221",
   "metadata": {},
   "source": [
    "#### Moda"
   ]
  },
  {
   "cell_type": "code",
   "execution_count": 44,
   "id": "fd902ad5-0777-46f5-8d89-0d27824f6804",
   "metadata": {},
   "outputs": [],
   "source": [
    "mode <- function(x) {\n",
    "   return(as.numeric(names(which.max(table(x)))))\n",
    "}"
   ]
  },
  {
   "cell_type": "markdown",
   "id": "8fc2b6c8-ba0b-4608-a334-193b718d7424",
   "metadata": {},
   "source": [
    "#### Rango"
   ]
  },
  {
   "cell_type": "code",
   "execution_count": 45,
   "id": "de1afe94-fd89-4a43-a391-7a38fb0a45ec",
   "metadata": {},
   "outputs": [],
   "source": [
    "rango <- function(x){\n",
    "    return(max(x)-min(x))\n",
    "}"
   ]
  },
  {
   "cell_type": "markdown",
   "id": "c86c2d49-045d-49e0-8f8a-f40ef0238346",
   "metadata": {},
   "source": [
    "#### Coeficiente de Variación"
   ]
  },
  {
   "cell_type": "code",
   "execution_count": 46,
   "id": "5384c0f1-052b-40f5-88aa-1ecfe27d481a",
   "metadata": {},
   "outputs": [],
   "source": [
    "coeficiente_variacion <- function(x){\n",
    "    return(sd(x)/mean(x))\n",
    "}"
   ]
  },
  {
   "cell_type": "markdown",
   "id": "3aff9b9b-d171-4f6f-8dcd-7be641bef2dc",
   "metadata": {},
   "source": [
    "### Manipulación de numeros"
   ]
  },
  {
   "cell_type": "markdown",
   "id": "82eaef45-c829-4f88-a008-99b0d3071ed3",
   "metadata": {},
   "source": [
    "#### round()"
   ]
  },
  {
   "cell_type": "code",
   "execution_count": 47,
   "id": "76f67b29-dfff-4ead-9868-e360f7e06bf4",
   "metadata": {},
   "outputs": [
    {
     "data": {
      "text/html": [
       "100"
      ],
      "text/latex": [
       "100"
      ],
      "text/markdown": [
       "100"
      ],
      "text/plain": [
       "[1] 100"
      ]
     },
     "metadata": {},
     "output_type": "display_data"
    },
    {
     "data": {
      "text/html": [
       "99.99"
      ],
      "text/latex": [
       "99.99"
      ],
      "text/markdown": [
       "99.99"
      ],
      "text/plain": [
       "[1] 99.99"
      ]
     },
     "metadata": {},
     "output_type": "display_data"
    },
    {
     "data": {
      "text/html": [
       "99.988"
      ],
      "text/latex": [
       "99.988"
      ],
      "text/markdown": [
       "99.988"
      ],
      "text/plain": [
       "[1] 99.988"
      ]
     },
     "metadata": {},
     "output_type": "display_data"
    },
    {
     "data": {
      "text/html": [
       "99.9877"
      ],
      "text/latex": [
       "99.9877"
      ],
      "text/markdown": [
       "99.9877"
      ],
      "text/plain": [
       "[1] 99.9877"
      ]
     },
     "metadata": {},
     "output_type": "display_data"
    },
    {
     "data": {
      "text/html": [
       "99.98765"
      ],
      "text/latex": [
       "99.98765"
      ],
      "text/markdown": [
       "99.98765"
      ],
      "text/plain": [
       "[1] 99.98765"
      ]
     },
     "metadata": {},
     "output_type": "display_data"
    }
   ],
   "source": [
    "round(99.987654, digits=1)\n",
    "round(99.987654, digits=2)\n",
    "round(99.987654, digits=3)\n",
    "round(99.987654, digits=4)\n",
    "round(99.987654, digits=5)"
   ]
  },
  {
   "cell_type": "markdown",
   "id": "7a925d3f-48df-4d19-bc36-7616ee01e37e",
   "metadata": {},
   "source": [
    "#### ceiling()"
   ]
  },
  {
   "cell_type": "code",
   "execution_count": 48,
   "id": "608d5ba5-4aa7-42ad-8355-d27cb077c6b6",
   "metadata": {},
   "outputs": [
    {
     "data": {
      "text/html": [
       "2"
      ],
      "text/latex": [
       "2"
      ],
      "text/markdown": [
       "2"
      ],
      "text/plain": [
       "[1] 2"
      ]
     },
     "metadata": {},
     "output_type": "display_data"
    },
    {
     "data": {
      "text/html": [
       "3"
      ],
      "text/latex": [
       "3"
      ],
      "text/markdown": [
       "3"
      ],
      "text/plain": [
       "[1] 3"
      ]
     },
     "metadata": {},
     "output_type": "display_data"
    },
    {
     "data": {
      "text/html": [
       "5"
      ],
      "text/latex": [
       "5"
      ],
      "text/markdown": [
       "5"
      ],
      "text/plain": [
       "[1] 5"
      ]
     },
     "metadata": {},
     "output_type": "display_data"
    },
    {
     "data": {
      "text/html": [
       "-1"
      ],
      "text/latex": [
       "-1"
      ],
      "text/markdown": [
       "-1"
      ],
      "text/plain": [
       "[1] -1"
      ]
     },
     "metadata": {},
     "output_type": "display_data"
    },
    {
     "data": {
      "text/html": [
       "-2"
      ],
      "text/latex": [
       "-2"
      ],
      "text/markdown": [
       "-2"
      ],
      "text/plain": [
       "[1] -2"
      ]
     },
     "metadata": {},
     "output_type": "display_data"
    },
    {
     "data": {
      "text/html": [
       "-4"
      ],
      "text/latex": [
       "-4"
      ],
      "text/markdown": [
       "-4"
      ],
      "text/plain": [
       "[1] -4"
      ]
     },
     "metadata": {},
     "output_type": "display_data"
    }
   ],
   "source": [
    "ceiling(1.9)\n",
    "ceiling(2.1)\n",
    "ceiling(4.5)\n",
    "ceiling(-1.9)\n",
    "ceiling(-2.1)\n",
    "ceiling(-4.5)"
   ]
  },
  {
   "cell_type": "markdown",
   "id": "0491031b-af73-491f-923a-2c0849c61bf7",
   "metadata": {},
   "source": [
    "#### trunc()"
   ]
  },
  {
   "cell_type": "code",
   "execution_count": 49,
   "id": "c5c9a5ef-c132-4d30-80bb-a107370dc471",
   "metadata": {},
   "outputs": [
    {
     "data": {
      "text/html": [
       "2119"
      ],
      "text/latex": [
       "2119"
      ],
      "text/markdown": [
       "2119"
      ],
      "text/plain": [
       "[1] 2119"
      ]
     },
     "metadata": {},
     "output_type": "display_data"
    },
    {
     "data": {
      "text/html": [
       "2119"
      ],
      "text/latex": [
       "2119"
      ],
      "text/markdown": [
       "2119"
      ],
      "text/plain": [
       "[1] 2119"
      ]
     },
     "metadata": {},
     "output_type": "display_data"
    }
   ],
   "source": [
    "trunc(2119.1921)\n",
    "trunc(2119.9999)"
   ]
  },
  {
   "cell_type": "markdown",
   "id": "ef472fbb-815f-4b39-bd43-8c11fbf05632",
   "metadata": {},
   "source": [
    "#### floor()"
   ]
  },
  {
   "cell_type": "code",
   "execution_count": 50,
   "id": "23ac53d3-032c-4c95-9d8c-de91f15ddaf2",
   "metadata": {},
   "outputs": [
    {
     "data": {
      "text/html": [
       "2"
      ],
      "text/latex": [
       "2"
      ],
      "text/markdown": [
       "2"
      ],
      "text/plain": [
       "[1] 2"
      ]
     },
     "metadata": {},
     "output_type": "display_data"
    },
    {
     "data": {
      "text/html": [
       "1"
      ],
      "text/latex": [
       "1"
      ],
      "text/markdown": [
       "1"
      ],
      "text/plain": [
       "[1] 1"
      ]
     },
     "metadata": {},
     "output_type": "display_data"
    },
    {
     "data": {
      "text/html": [
       "-3"
      ],
      "text/latex": [
       "-3"
      ],
      "text/markdown": [
       "-3"
      ],
      "text/plain": [
       "[1] -3"
      ]
     },
     "metadata": {},
     "output_type": "display_data"
    },
    {
     "data": {
      "text/html": [
       "-2"
      ],
      "text/latex": [
       "-2"
      ],
      "text/markdown": [
       "-2"
      ],
      "text/plain": [
       "[1] -2"
      ]
     },
     "metadata": {},
     "output_type": "display_data"
    }
   ],
   "source": [
    "floor(2.1)\n",
    "floor(1.9)\n",
    "floor(-2.1)\n",
    "floor(-1.9)"
   ]
  },
  {
   "cell_type": "markdown",
   "id": "71a3a9d7-4531-4246-b07f-edf5476da46c",
   "metadata": {},
   "source": [
    "### Cadenas"
   ]
  },
  {
   "cell_type": "markdown",
   "id": "6a611d82-c43b-462e-89ae-8fafd16bb3ff",
   "metadata": {
    "tags": []
   },
   "source": [
    "#### paste()"
   ]
  },
  {
   "cell_type": "markdown",
   "id": "4a164e5a-34a1-428e-8abb-b5ff11c1dd9b",
   "metadata": {},
   "source": [
    "Función que concatena vectores convirtiendo a caracteres"
   ]
  },
  {
   "cell_type": "markdown",
   "id": "80e6365b-558a-44fa-905e-676426a51a98",
   "metadata": {},
   "source": [
    "#### toupper()"
   ]
  },
  {
   "cell_type": "markdown",
   "id": "3741a809-58a0-437b-98ca-746198d736e7",
   "metadata": {},
   "source": [
    "Retorna una cadena en mayusculas"
   ]
  },
  {
   "cell_type": "markdown",
   "id": "6f660216-35e4-4194-94a2-35bd774401c2",
   "metadata": {},
   "source": [
    "#### tolower()"
   ]
  },
  {
   "cell_type": "markdown",
   "id": "52de9820-05f8-4645-8455-bcd53d541c2c",
   "metadata": {},
   "source": [
    "Retorna una cadena en minusculas"
   ]
  },
  {
   "cell_type": "markdown",
   "id": "eccd12f1-1018-41b7-8ef1-45cdc19dc821",
   "metadata": {},
   "source": [
    "#### chartr()"
   ]
  },
  {
   "cell_type": "markdown",
   "id": "80634852-d364-47c8-9a60-1b3eb105e812",
   "metadata": {},
   "source": [
    "Reemplaza los caracteres especificados"
   ]
  },
  {
   "cell_type": "code",
   "execution_count": 51,
   "id": "0835af07-bec5-479d-90a7-3a16399fcc07",
   "metadata": {},
   "outputs": [
    {
     "data": {
      "text/html": [
       "'cama'"
      ],
      "text/latex": [
       "'cama'"
      ],
      "text/markdown": [
       "'cama'"
      ],
      "text/plain": [
       "[1] \"cama\""
      ]
     },
     "metadata": {},
     "output_type": "display_data"
    }
   ],
   "source": [
    "x <- \"coma\"\n",
    "chartr(\"o\", \"a\", x)"
   ]
  },
  {
   "cell_type": "markdown",
   "id": "ebb48e67-4e55-4054-af5d-3d628967da5c",
   "metadata": {},
   "source": [
    "#### substr()"
   ]
  },
  {
   "cell_type": "markdown",
   "id": "1c375b4e-abc2-43d9-bc69-499be40ee38e",
   "metadata": {},
   "source": [
    "Extrae una una subcadena según se especifique"
   ]
  },
  {
   "cell_type": "code",
   "execution_count": 52,
   "id": "8d0cc37c-009f-43a2-a189-cc0e201a4589",
   "metadata": {},
   "outputs": [
    {
     "data": {
      "text/html": [
       "'me gusta R'"
      ],
      "text/latex": [
       "'me gusta R'"
      ],
      "text/markdown": [
       "'me gusta R'"
      ],
      "text/plain": [
       "[1] \"me gusta R\""
      ]
     },
     "metadata": {},
     "output_type": "display_data"
    }
   ],
   "source": [
    "variable <- \"NO me gusta R\"\n",
    "inicio <- 4\n",
    "fin <- 13\n",
    "substr(variable, inicio, fin)"
   ]
  },
  {
   "cell_type": "markdown",
   "id": "4f6f0d08-d5d5-409a-a26a-154aee53ba98",
   "metadata": {
    "tags": []
   },
   "source": [
    "### Clasificación"
   ]
  },
  {
   "cell_type": "markdown",
   "id": "72936675-818b-45df-9b9a-6d7d54b978e6",
   "metadata": {},
   "source": [
    "#### sort()"
   ]
  },
  {
   "cell_type": "markdown",
   "id": "d8cb8a09-de98-4e46-ad86-b4b705b54f4f",
   "metadata": {},
   "source": [
    "Retorna lo elementos pasados por parámentro ordenados"
   ]
  },
  {
   "cell_type": "code",
   "execution_count": 53,
   "id": "a4a79d93-8d12-4604-9d64-342beb770a51",
   "metadata": {},
   "outputs": [
    {
     "data": {
      "text/html": [
       "<style>\n",
       ".list-inline {list-style: none; margin:0; padding: 0}\n",
       ".list-inline>li {display: inline-block}\n",
       ".list-inline>li:not(:last-child)::after {content: \"\\00b7\"; padding: 0 .5ex}\n",
       "</style>\n",
       "<ol class=list-inline><li>&lt;NA&gt;</li><li>3</li><li>2</li><li>1</li></ol>\n"
      ],
      "text/latex": [
       "\\begin{enumerate*}\n",
       "\\item <NA>\n",
       "\\item 3\n",
       "\\item 2\n",
       "\\item 1\n",
       "\\end{enumerate*}\n"
      ],
      "text/markdown": [
       "1. &lt;NA&gt;\n",
       "2. 3\n",
       "3. 2\n",
       "4. 1\n",
       "\n",
       "\n"
      ],
      "text/plain": [
       "[1] NA  3  2  1"
      ]
     },
     "metadata": {},
     "output_type": "display_data"
    }
   ],
   "source": [
    "estructura = c(1, 2, 3, NA)\n",
    "sort(\n",
    "    estructura,\n",
    "    decreasing=TRUE,\n",
    "    na.last=FALSE,\n",
    "    #method=c(\"auto\", \"shell\", \"quick\", \"radix\"))\n",
    ")"
   ]
  },
  {
   "cell_type": "markdown",
   "id": "714d136c-01ed-4a07-9240-5aab4620328f",
   "metadata": {
    "tags": []
   },
   "source": [
    "#### factor()"
   ]
  },
  {
   "cell_type": "markdown",
   "id": "8e9e3d1e-fa01-4294-ac1e-1bb50786fad1",
   "metadata": {},
   "source": [
    "Función empleadas en variables categóricas o cualitativas, poseen un número limitado de factores. La misma codifica una estructura de datos en factores para poder ser **clasificados**"
   ]
  },
  {
   "cell_type": "code",
   "execution_count": 54,
   "id": "3a700c4c-a652-40ea-989a-08fe34cdea81",
   "metadata": {},
   "outputs": [
    {
     "name": "stdout",
     "output_type": "stream",
     "text": [
      "[1] hombre mujer  mujer  mujer  hombre mujer \n",
      "Levels: hombre mujer\n"
     ]
    },
    {
     "data": {
      "image/png": "[encoded data removed]",
      "text/plain": [
       "plot without title"
      ]
     },
     "metadata": {
      "image/png": {
       "height": 420,
       "width": 420
      }
     },
     "output_type": "display_data"
    }
   ],
   "source": [
    "# Vector correspondiente a 6 personas con su respectivo sexo\n",
    "sexo <- c(\"hombre\", \"mujer\", \"mujer\", \"mujer\", \"hombre\", \"mujer\")\n",
    "sexo_factor <- factor(sexo)\n",
    "# plot(sexo) Da error\n",
    "print(sexo_factor)\n",
    "plot(sexo_factor)"
   ]
  },
  {
   "cell_type": "markdown",
   "id": "df24bc54-bb03-402d-9081-687257149e03",
   "metadata": {
    "tags": []
   },
   "source": [
    "#### levels()"
   ]
  },
  {
   "cell_type": "markdown",
   "id": "999bd4c5-e479-4b5a-86b1-e01b8afa2935",
   "metadata": {},
   "source": [
    "Función que brinda acceso a los niveles (categorías) de una variable"
   ]
  },
  {
   "cell_type": "code",
   "execution_count": 55,
   "id": "de882ede-973b-47d0-8c24-578853079eec",
   "metadata": {},
   "outputs": [
    {
     "name": "stdout",
     "output_type": "stream",
     "text": [
      "[1] \"hombre\" \"mujer\" \n"
     ]
    }
   ],
   "source": [
    "sexo_niveles <- levels(sexo_factor)\n",
    "print(sexo_niveles)"
   ]
  },
  {
   "cell_type": "markdown",
   "id": "6f2af5e2-dae1-44bf-9c27-228f2963cdce",
   "metadata": {
    "tags": []
   },
   "source": [
    "#### by()"
   ]
  },
  {
   "cell_type": "code",
   "execution_count": 56,
   "id": "985efaaa-1904-4a31-8f2a-67b38ae69f40",
   "metadata": {},
   "outputs": [
    {
     "name": "stdout",
     "output_type": "stream",
     "text": [
      "  edad   nombre peso\n",
      "1   17     Juan  100\n",
      "2   18     José   80\n",
      "3   22 Giovanni   65\n",
      "4   27 Giuseppe   75\n"
     ]
    }
   ],
   "source": [
    "datos <- data.frame(\n",
    "    \"edad\"=c(17, 18, 22, 27),\n",
    "    \"nombre\"=c(\"Juan\", \"José\", \"Giovanni\", \"Giuseppe\"),\n",
    "    \"peso\"=c(100, 80, 65, 75)\n",
    ")\n",
    "print(datos)"
   ]
  },
  {
   "cell_type": "markdown",
   "id": "d30fc378-1f1b-4dcc-8370-1455f2a145d0",
   "metadata": {},
   "source": [
    "Permite agrupar los datos por una columna. Retorna un objeto"
   ]
  },
  {
   "cell_type": "code",
   "execution_count": 57,
   "id": "315d2981-6418-4a43-9434-42ca4b85141d",
   "metadata": {},
   "outputs": [
    {
     "name": "stdout",
     "output_type": "stream",
     "text": [
      "datos$edad: 17\n",
      "[1] 100\n",
      "------------------------------------------------------------ \n",
      "datos$edad: 18\n",
      "[1] 80\n",
      "------------------------------------------------------------ \n",
      "datos$edad: 22\n",
      "[1] 65\n",
      "------------------------------------------------------------ \n",
      "datos$edad: 27\n",
      "[1] 75\n"
     ]
    },
    {
     "data": {
      "text/html": [
       "'by'"
      ],
      "text/latex": [
       "'by'"
      ],
      "text/markdown": [
       "'by'"
      ],
      "text/plain": [
       "[1] \"by\""
      ]
     },
     "metadata": {},
     "output_type": "display_data"
    }
   ],
   "source": [
    "#by(datos, ordenarSegun,funcion)\n",
    "x <- by(datos$peso, datos$edad, mean)\n",
    "print(x)\n",
    "class(x)"
   ]
  },
  {
   "cell_type": "markdown",
   "id": "0389828d-6dfa-4402-a9b6-447b9072a3c8",
   "metadata": {
    "tags": []
   },
   "source": [
    "#### tapply()"
   ]
  },
  {
   "cell_type": "markdown",
   "id": "0a019c1b-ea3d-4adc-b9e2-f35db7d9bfc9",
   "metadata": {},
   "source": [
    "Permite agrupar los datos por una columna. Retorna un array"
   ]
  },
  {
   "cell_type": "code",
   "execution_count": 58,
   "id": "8df049cc-be22-4197-a4d1-5865783db47e",
   "metadata": {},
   "outputs": [
    {
     "name": "stdout",
     "output_type": "stream",
     "text": [
      " 17  18  22  27 \n",
      "100  80  65  75 \n"
     ]
    },
    {
     "data": {
      "text/html": [
       "'array'"
      ],
      "text/latex": [
       "'array'"
      ],
      "text/markdown": [
       "'array'"
      ],
      "text/plain": [
       "[1] \"array\""
      ]
     },
     "metadata": {},
     "output_type": "display_data"
    }
   ],
   "source": [
    "#tapply(datos, ordenarSegun,funcion)\n",
    "x <-tapply(datos$peso, datos$edad, mean)\n",
    "print(x)\n",
    "class(x)"
   ]
  },
  {
   "cell_type": "markdown",
   "id": "5528e53d-932e-4778-9c1b-55b87f5509c1",
   "metadata": {},
   "source": [
    "### Visualización"
   ]
  },
  {
   "cell_type": "markdown",
   "id": "1bb9d3a8-dee8-446b-8e72-d4d44f058fc2",
   "metadata": {},
   "source": [
    "#### table()"
   ]
  },
  {
   "cell_type": "markdown",
   "id": "9072c8eb-ca43-4a9e-b4c3-00f588be3cc0",
   "metadata": {},
   "source": [
    "Construye una tabla de frecuencias"
   ]
  },
  {
   "cell_type": "code",
   "execution_count": 59,
   "id": "744cbf07-9cb3-453e-9d7f-237d1657ca53",
   "metadata": {},
   "outputs": [
    {
     "data": {
      "text/plain": [
       "fuma\n",
       "  A veces Frecuente     Nunca \n",
       "        3         3         2 "
      ]
     },
     "metadata": {},
     "output_type": "display_data"
    }
   ],
   "source": [
    "fuma <- c('Frecuente', 'Nunca', 'A veces', 'A veces', 'A veces',\n",
    "          'Nunca', 'Frecuente', NA, 'Frecuente', NA)\n",
    "table(fuma)"
   ]
  },
  {
   "cell_type": "markdown",
   "id": "0a0ae320-5d12-46e7-a01e-bd7b3d141df1",
   "metadata": {},
   "source": [
    "#### png()"
   ]
  },
  {
   "cell_type": "markdown",
   "id": "c2dd37e3-b1b6-40b5-b2a9-4c58eb95ac02",
   "metadata": {},
   "source": [
    "Se emplea para dar un nombre a un gráfico y amacenarlo"
   ]
  },
  {
   "cell_type": "code",
   "execution_count": 60,
   "id": "9259c88d-853d-4678-bc46-e14058027df7",
   "metadata": {},
   "outputs": [],
   "source": [
    "png(file='chart.png')"
   ]
  },
  {
   "cell_type": "markdown",
   "id": "deffd360-1801-4d84-ba64-89fe6782ccc9",
   "metadata": {},
   "source": [
    "También existen:\n",
    "\n",
    "* bmp()\n",
    "* jpeg()\n",
    "* tiff()"
   ]
  },
  {
   "cell_type": "markdown",
   "id": "5292d74b-ddca-4f89-92da-839325ee86c8",
   "metadata": {},
   "source": [
    "#### plot()"
   ]
  },
  {
   "cell_type": "markdown",
   "id": "3138b5f6-c823-4574-a284-d5f854b863b6",
   "metadata": {},
   "source": [
    "Genera gráficos"
   ]
  },
  {
   "cell_type": "code",
   "execution_count": 61,
   "id": "bf0de292-ea85-49c8-8616-241912fbc772",
   "metadata": {},
   "outputs": [
    {
     "data": {
      "image/png": "[encoded data removed]",
      "text/plain": [
       "Plot with title “Grafico nombre”"
      ]
     },
     "metadata": {
      "image/png": {
       "height": 420,
       "width": 420
      }
     },
     "output_type": "display_data"
    }
   ],
   "source": [
    "estructura <- seq(1:10)\n",
    "plot(\n",
    "    estructura,\n",
    "    main='Grafico nombre', \n",
    "    type='o',\n",
    "    col='red',\n",
    "    ylab='Estructura',\n",
    "    xlab='Indices'\n",
    ")"
   ]
  },
  {
   "cell_type": "markdown",
   "id": "79259a92-c03c-4525-928b-9e38d24a34d4",
   "metadata": {},
   "source": [
    "#### lines()"
   ]
  },
  {
   "cell_type": "markdown",
   "id": "41c16573-1ea8-4da1-b5ff-5bd32d310724",
   "metadata": {},
   "source": [
    "Traza segmentos dado unos puntos"
   ]
  },
  {
   "cell_type": "code",
   "execution_count": 62,
   "id": "95f133fe-cd9e-458a-90b0-eea764c9b76b",
   "metadata": {},
   "outputs": [
    {
     "data": {
      "image/png": "[encoded data removed]",
      "text/plain": [
       "plot without title"
      ]
     },
     "metadata": {
      "image/png": {
       "height": 420,
       "width": 420
      }
     },
     "output_type": "display_data"
    }
   ],
   "source": [
    "line1 <- c(0, 8, 14, 42)\n",
    "line2 <- c(2, 16, 6, 8)\n",
    "plot(line1, type = \"l\", col = \"blue\")\n",
    "lines(line2, type=\"l\", col = \"red\")"
   ]
  },
  {
   "cell_type": "markdown",
   "id": "491d7719-9102-484f-a9ef-1928cdb52771",
   "metadata": {},
   "source": [
    "#### barplot()"
   ]
  },
  {
   "cell_type": "markdown",
   "id": "bf42ee5e-1684-4310-ae15-550da32af765",
   "metadata": {},
   "source": [
    "Genera gráficos de barras"
   ]
  },
  {
   "cell_type": "code",
   "execution_count": 63,
   "id": "d0b723d6-f74e-4ce5-a247-f5be7d966d4b",
   "metadata": {},
   "outputs": [
    {
     "data": {
      "image/png": "[encoded data removed]",
      "text/plain": [
       "Plot with title “Revenue chart”"
      ]
     },
     "metadata": {
      "image/png": {
       "height": 420,
       "width": 420
      }
     },
     "output_type": "display_data"
    }
   ],
   "source": [
    "H <- c(7,12,28,3,41)\n",
    "M <- c(\"Mar\",\"Apr\",\"May\",\"Jun\",\"Jul\")\n",
    "barplot(\n",
    "    H,names.arg=M,\n",
    "    xlab=\"Month\",\n",
    "    ylab=\"Revenue\",\n",
    "    col=\"yellow\",\n",
    "    main=\"Revenue chart\",\n",
    "    border=\"red\"\n",
    ")"
   ]
  },
  {
   "cell_type": "markdown",
   "id": "4bba4523-18e7-44c6-9bf5-4d26bfb154ff",
   "metadata": {},
   "source": [
    "#### pie()"
   ]
  },
  {
   "cell_type": "markdown",
   "id": "33b9d62e-6e69-4589-a1ac-8d072365255b",
   "metadata": {},
   "source": [
    "Genera gráficos de torta"
   ]
  },
  {
   "cell_type": "code",
   "execution_count": 64,
   "id": "e69b2fc7-ff7e-4546-a281-158af57ea9e5",
   "metadata": {},
   "outputs": [
    {
     "data": {
      "image/png": "[encoded data removed]",
      "text/plain": [
       "plot without title"
      ]
     },
     "metadata": {
      "image/png": {
       "height": 420,
       "width": 420
      }
     },
     "output_type": "display_data"
    }
   ],
   "source": [
    "x <- c(21, 62, 10, 53)\n",
    "labels <- c(\"London\", \"New York\", \"Singapore\", \"Mumbai\")\n",
    "pie(x,labels)"
   ]
  },
  {
   "cell_type": "markdown",
   "id": "f98f0e66-cc6c-4b7e-a221-d9f9e3512c8d",
   "metadata": {},
   "source": [
    "#### boxplot()"
   ]
  },
  {
   "cell_type": "markdown",
   "id": "76e21b3a-14de-4732-8046-f367bff48455",
   "metadata": {},
   "source": [
    "Genera graficos de cajas"
   ]
  },
  {
   "cell_type": "code",
   "execution_count": 65,
   "id": "df7ca99b-91c7-4f21-ad76-7b40ec88f556",
   "metadata": {},
   "outputs": [
    {
     "data": {
      "image/png": "[encoded data removed]",
      "text/plain": [
       "plot without title"
      ]
     },
     "metadata": {
      "image/png": {
       "height": 420,
       "width": 420
      }
     },
     "output_type": "display_data"
    }
   ],
   "source": [
    "set.seed(7)\n",
    "x <- rnorm(200)\n",
    "boxplot(x)"
   ]
  },
  {
   "cell_type": "markdown",
   "id": "a3ffb46b-ee81-4ad5-8553-ef363abd2ef1",
   "metadata": {},
   "source": [
    "#### hist()"
   ]
  },
  {
   "cell_type": "markdown",
   "id": "07c3bf14-7a2d-4a8e-aaa5-6ba2f522bd0c",
   "metadata": {},
   "source": [
    "Genera histogramas"
   ]
  },
  {
   "cell_type": "code",
   "execution_count": 66,
   "id": "0fa148d5-c03d-4405-bdee-2636186e85f8",
   "metadata": {},
   "outputs": [
    {
     "data": {
      "image/png": "[encoded data removed]",
      "text/plain": [
       "Plot with title “Histogram of v”"
      ]
     },
     "metadata": {
      "image/png": {
       "height": 420,
       "width": 420
      }
     },
     "output_type": "display_data"
    }
   ],
   "source": [
    "v <-  c(9,13,21,8,36,22,12,41,31,33,19)\n",
    "hist(\n",
    "    v,\n",
    "    xlab=\"Weight\",\n",
    "    col=\"yellow\",\n",
    "    border=\"blue\"\n",
    ")"
   ]
  },
  {
   "cell_type": "markdown",
   "id": "ef207bdc-532e-49af-900e-dd160070416c",
   "metadata": {},
   "source": [
    "### Validaciones"
   ]
  },
  {
   "cell_type": "markdown",
   "id": "a881da4d-9712-46e6-8498-c51c3640e21b",
   "metadata": {},
   "source": [
    "* class(x)\n",
    "\n",
    "Retornan ó TRUE ó FALSE\n",
    "\n",
    "* is.unsorted(x)\n",
    "* is.finite(x)\n",
    "* is.infinite(x)\n",
    "* is.na(x)\n",
    "* is.nan(x)\n",
    "* is.raw(x)\n",
    "* is.list(x)\n",
    "* is.null(x)\n",
    "* is.array(x)\n",
    "* is.matrix(x)\n",
    "* is.vector(x)\n",
    "* is.table(x)\n",
    "* is.factor(x)\n",
    "* is.object(x)\n",
    "* is.symbol(x)\n",
    "* is.complex(x)\n",
    "* is.integer(x)\n",
    "* is.logical(x)\n",
    "* is.numeric(x)\n",
    "* is.character(x)\n",
    "* is.data.frame(x)\n",
    "\n",
    "**Entre otros ...**"
   ]
  },
  {
   "cell_type": "markdown",
   "id": "863f3e31-c708-47f8-a028-9e37753dbdf6",
   "metadata": {},
   "source": [
    "### Forzar un tipo"
   ]
  },
  {
   "cell_type": "markdown",
   "id": "0125ad45-7b64-48c5-9a23-afd15a316241",
   "metadata": {},
   "source": [
    "Se realiza de la forma **as.tipo(dato)**"
   ]
  },
  {
   "cell_type": "code",
   "execution_count": 67,
   "id": "14d46539-8e56-42f8-a8cb-6448c65762f0",
   "metadata": {},
   "outputs": [
    {
     "name": "stdout",
     "output_type": "stream",
     "text": [
      "[1] 456\n"
     ]
    },
    {
     "data": {
      "text/html": [
       "'integer'"
      ],
      "text/latex": [
       "'integer'"
      ],
      "text/markdown": [
       "'integer'"
      ],
      "text/plain": [
       "[1] \"integer\""
      ]
     },
     "metadata": {},
     "output_type": "display_data"
    }
   ],
   "source": [
    "dato <- 456.432\n",
    "dato <- as.integer(dato)\n",
    "print(dato)\n",
    "class(dato)"
   ]
  },
  {
   "cell_type": "markdown",
   "id": "5f85a660-b4b3-46ef-b524-cff89355cfbc",
   "metadata": {},
   "source": [
    "## Distribuciones"
   ]
  },
  {
   "cell_type": "markdown",
   "id": "5bd67b84-2430-45f7-8f8a-5753adc639d5",
   "metadata": {},
   "source": [
    "Para cada distribución se debe anteponer alguna de las siguientes formas:\n",
    "\n",
    "* d -> función de densidad de probabilidad f(x)\n",
    "* p -> función de distribución acumulada F(x)\n",
    "* q -> cualtil para  P(X <= q) = p\n",
    "* r -> función generadora de números aleatorios"
   ]
  },
  {
   "cell_type": "markdown",
   "id": "f384704d-22f9-47f6-a70e-dcc4dc001ece",
   "metadata": {},
   "source": [
    "### Distribuciones Discretas"
   ]
  },
  {
   "cell_type": "markdown",
   "id": "f02d0f26-c129-4b43-84f5-74f6830acee7",
   "metadata": {},
   "source": [
    "* binom -> Binomial\n",
    "* nvinom -> Binomial Negativa\n",
    "* geo -> Geométrica\n",
    "* nbinom -> Binomial negativa\n",
    "* hyper -> Hipergeométrica\n",
    "* pois -> Poisson\n",
    "* multinom -> Multinomial"
   ]
  },
  {
   "cell_type": "markdown",
   "id": "674367a5-ce5e-44ed-8909-57af2d20ae64",
   "metadata": {},
   "source": [
    "### Distribuciones Continuas"
   ]
  },
  {
   "cell_type": "markdown",
   "id": "f80eee77-8452-440e-b55e-77dd4d134abd",
   "metadata": {},
   "source": [
    "* beta -> Beta\n",
    "* cauchy -> Cauchy\n",
    "* chisq -> Chi-cuadrada\n",
    "* exp -> Exponencial\n",
    "* f -> F\n",
    "* gamma -> Gama\n",
    "* lnorm -> log-normal\n",
    "* norm -> normal\n",
    "* t -> t-student\n",
    "* unif -> Uniforme\n",
    "* weibull -> Weibull"
   ]
  },
  {
   "cell_type": "markdown",
   "id": "9c64e26f-3ce1-41c8-99fd-7f76e46bfad1",
   "metadata": {},
   "source": [
    "### Ejemplos"
   ]
  },
  {
   "cell_type": "code",
   "execution_count": 68,
   "id": "dc279091-711e-4213-8059-05c6870daee1",
   "metadata": {},
   "outputs": [
    {
     "data": {
      "text/html": [
       "0.283512088894332"
      ],
      "text/latex": [
       "0.283512088894332"
      ],
      "text/markdown": [
       "0.283512088894332"
      ],
      "text/plain": [
       "[1] 0.2835121"
      ]
     },
     "metadata": {},
     "output_type": "display_data"
    }
   ],
   "source": [
    "# Binomial para P(X=2)\n",
    "dbinom(x=2, size=18, prob=0.10)"
   ]
  },
  {
   "cell_type": "code",
   "execution_count": 69,
   "id": "a75f3133-14e6-4485-9d41-5d4e5aa1e991",
   "metadata": {},
   "outputs": [
    {
     "data": {
      "text/html": [
       "0.0981968414254374"
      ],
      "text/latex": [
       "0.0981968414254374"
      ],
      "text/markdown": [
       "0.0981968414254374"
      ],
      "text/plain": [
       "[1] 0.09819684"
      ]
     },
     "metadata": {},
     "output_type": "display_data"
    },
    {
     "data": {
      "text/html": [
       "0.0981968414254375"
      ],
      "text/latex": [
       "0.0981968414254375"
      ],
      "text/markdown": [
       "0.0981968414254375"
      ],
      "text/plain": [
       "[1] 0.09819684"
      ]
     },
     "metadata": {},
     "output_type": "display_data"
    }
   ],
   "source": [
    "# Binomial para P(X>=4)\n",
    "sum(dbinom(x=4:18, size=18, prob=0.10))\n",
    "# O lo mismo 1 - P(X<4) = 1 - P(X<=3) = 1- F(3)\n",
    "1 - pbinom(q=3, size=18, prob=0.10)"
   ]
  },
  {
   "cell_type": "code",
   "execution_count": 70,
   "id": "92cbd1af-b4ff-4ce8-a67b-2e53d46cb4d3",
   "metadata": {},
   "outputs": [
    {
     "data": {
      "text/plain": [
       "0.40924 with absolute error < 4.5e-15"
      ]
     },
     "metadata": {},
     "output_type": "display_data"
    },
    {
     "data": {
      "text/html": [
       "0.40924"
      ],
      "text/latex": [
       "0.40924"
      ],
      "text/markdown": [
       "0.40924"
      ],
      "text/plain": [
       "[1] 0.40924"
      ]
     },
     "metadata": {},
     "output_type": "display_data"
    }
   ],
   "source": [
    "# Beta para P(0.3 < X < 0.7)\n",
    "integrate(f=dbeta, lower=0.3, upper=0.7, shape1=2, shape2=5)\n",
    "# O lo mismo P(x<0.7) - P(x<0.3)\n",
    "pbeta(q=0.7, shape1=2, shape2=5) - pbeta(q=0.3, shape1=2, shape2=5)"
   ]
  },
  {
   "cell_type": "markdown",
   "id": "094b6952-c2f5-42c8-bbe2-4649e502aecf",
   "metadata": {},
   "source": [
    "# Para más información"
   ]
  },
  {
   "cell_type": "markdown",
   "id": "9bbe2b59-13d2-4d6b-a8b3-028f532dcc61",
   "metadata": {},
   "source": [
    "* [R project](https://www.r-project.org/)\n",
    "* [R FAQ](https://cran.r-project.org/doc/FAQ/R-FAQ.html#Introduction)\n",
    "* [R TutorialsPoint](https://www.tutorialspoint.com/r/)\n",
    "* [R Manual by fhernanb](https://fhernanb.github.io/Manual-de-R/)"
   ]
  }
 ],
 "metadata": {
  "kernelspec": {
   "display_name": "R",
   "language": "R",
   "name": "ir"
  },
  "language_info": {
   "codemirror_mode": "r",
   "file_extension": ".r",
   "mimetype": "text/x-r-source",
   "name": "R",
   "pygments_lexer": "r",
   "version": "4.2.0"
  }
 },
 "nbformat": 4,
 "nbformat_minor": 5
}
